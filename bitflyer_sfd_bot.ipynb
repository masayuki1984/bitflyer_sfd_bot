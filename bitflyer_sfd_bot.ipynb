{
 "cells": [
  {
   "cell_type": "code",
   "execution_count": 4,
   "id": "89423b9b",
   "metadata": {},
   "outputs": [],
   "source": [
    "import time\n",
    "import traceback\n",
    "import datetime\n",
    "import copy\n",
    "import sys\n",
    "import pickle\n",
    "import os\n",
    "import yaml\n",
    "import pandas as pd\n",
    "import numpy as np\n",
    "import lightgbm as lgb\n",
    "\n",
    "import ccxt"
   ]
  },
  {
   "cell_type": "code",
   "execution_count": 6,
   "id": "b628954c",
   "metadata": {},
   "outputs": [],
   "source": [
    "# 必要な情報を読み込み\n",
    "def fetch_yaml_config():\n",
    "    \"\"\"read yaml config file\"\"\"\n",
    "    config = \"config.yml\"\n",
    "    with open(config, \"r\", encoding=\"utf-8\") as yml:\n",
    "        config = yaml.safe_load(yml)\n",
    "    return config"
   ]
  },
  {
   "cell_type": "code",
   "execution_count": 12,
   "id": "65d60e59",
   "metadata": {},
   "outputs": [],
   "source": [
    "def market_order(exchange, symbol, lot, api_key=None, api_secret=None):\n",
    "    print(\"order\",lot)\n",
    "    if exchange == \"bitflyer\":\n",
    "        config = {\"apiKey\": api_key, \"secret\": api_secret,\"options\": {\"defaultType\": \"future\"}}\n",
    "        ex = ccxt.binance(config)\n",
    "\n",
    "        side = \"Buy\" if lot > 0 else \"Sell\"\n",
    "        if side == \"Sell\":\n",
    "            ord = ex.create_market_sell_order(symbol, abs(lot))\n",
    "        else:\n",
    "            ord = ex.create_market_buy_order(symbol, lot)\n",
    "\n",
    "        return ord"
   ]
  },
  {
   "cell_type": "code",
   "execution_count": 13,
   "id": "1c12d1e1",
   "metadata": {},
   "outputs": [],
   "source": [
    "def test_order(exchange, symbol, api_key, api_secret):\n",
    "    market_order(exchange, symbol, lot, api_key, api_secret)\n",
    "    market_order(exchange, symbol, -lot, api_key, api_secret)"
   ]
  },
  {
   "cell_type": "code",
   "execution_count": 20,
   "id": "847bf595",
   "metadata": {},
   "outputs": [],
   "source": [
    "if __name__ == \"__main__\":\n",
    "    config = fetch_yaml_config()\n",
    "    # 環境変数を設定する\n",
    "    api_key = config[\"API_KEY\"]\n",
    "    api_secret = config[\"API_SECRET\"]\n",
    "    lot = float(config[\"LOT\"])\n",
    "    symbol = config[\"SYMBOL\"]\n",
    "    exchange = config[\"EXCHANGE\"]\n",
    "\n",
    "    periods_dict = {\"1m\" :60, \"3m\":60*3, \"5m\":60*5, \"15m\":60*15, \"30m\":60*30, \"1h\":60*60, \"2h\":60*60*2, \"4h\":60*60*4, \"1d\":60*60*24}\n",
    "\n",
    "    period = \"1m\"\n",
    "    timespan = periods_dict[period]\n",
    "    t = time.time()\n",
    "    pre_time = t//timespan\n",
    "    #test_order(exchange, symbol, api_key, api_secret)\n",
    "    # while True:\n",
    "    #     t = time.time()\n",
    "    #     now_time = t//timespan\n",
    "    #     if pre_time != now_time:\n",
    "    #         pre_time = now_time\n",
    "    #         run(exchange, symbol, api_key, api_secret)\n",
    "    #     time.sleep(1)"
   ]
  },
  {
   "cell_type": "code",
   "execution_count": 15,
   "id": "06ebc00b",
   "metadata": {},
   "outputs": [
    {
     "name": "stdout",
     "output_type": "stream",
     "text": [
      "['aax', 'ascendex', 'bequant', 'bibox', 'bigone', 'binance', 'binancecoinm', 'binanceus', 'binanceusdm', 'bit2c', 'bitbank', 'bitbay', 'bitbns', 'bitcoincom', 'bitfinex', 'bitfinex2', 'bitflyer', 'bitforex', 'bitget', 'bithumb', 'bitmart', 'bitmex', 'bitopro', 'bitpanda', 'bitrue', 'bitso', 'bitstamp', 'bitstamp1', 'bittrex', 'bitvavo', 'bkex', 'bl3p', 'blockchaincom', 'btcalpha', 'btcbox', 'btcmarkets', 'btctradeua', 'btcturk', 'buda', 'bw', 'bybit', 'bytetrade', 'cdax', 'cex', 'coinbase', 'coinbaseprime', 'coinbasepro', 'coincheck', 'coinex', 'coinfalcon', 'coinmate', 'coinone', 'coinspot', 'crex24', 'cryptocom', 'currencycom', 'delta', 'deribit', 'digifinex', 'eqonex', 'exmo', 'flowbtc', 'fmfwio', 'ftx', 'ftxus', 'gateio', 'gemini', 'hitbtc', 'hitbtc3', 'hollaex', 'huobi', 'huobijp', 'huobipro', 'idex', 'independentreserve', 'indodax', 'itbit', 'kraken', 'kucoin', 'kucoinfutures', 'kuna', 'latoken', 'lbank', 'liquid', 'luno', 'lykke', 'mercado', 'mexc', 'ndax', 'novadax', 'oceanex', 'okcoin', 'okex', 'okex5', 'okx', 'paymium', 'phemex', 'poloniex', 'probit', 'qtrade', 'ripio', 'stex', 'therock', 'tidebit', 'tidex', 'timex', 'upbit', 'vcc', 'wavesexchange', 'wazirx', 'whitebit', 'woo', 'xena', 'yobit', 'zaif', 'zb', 'zipmex', 'zonda']\n"
     ]
    }
   ],
   "source": [
    "print(ccxt.exchanges)"
   ]
  },
  {
   "cell_type": "code",
   "execution_count": null,
   "id": "5c2f8541",
   "metadata": {},
   "outputs": [],
   "source": []
  }
 ],
 "metadata": {
  "kernelspec": {
   "display_name": "Python 3 (ipykernel)",
   "language": "python",
   "name": "python3"
  },
  "language_info": {
   "codemirror_mode": {
    "name": "ipython",
    "version": 3
   },
   "file_extension": ".py",
   "mimetype": "text/x-python",
   "name": "python",
   "nbconvert_exporter": "python",
   "pygments_lexer": "ipython3",
   "version": "3.7.11"
  }
 },
 "nbformat": 4,
 "nbformat_minor": 5
}
