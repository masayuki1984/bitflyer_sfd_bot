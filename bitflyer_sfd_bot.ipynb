{
 "cells": [
  {
   "cell_type": "code",
   "execution_count": 1,
   "metadata": {},
   "outputs": [
    {
     "ename": "ImportError",
     "evalue": "cannot import name 'DtypeObj' from 'pandas._typing' (/opt/anaconda3/lib/python3.7/site-packages/pandas/_typing.py)",
     "output_type": "error",
     "traceback": [
      "\u001b[0;31m---------------------------------------------------------------------------\u001b[0m",
      "\u001b[0;31mImportError\u001b[0m                               Traceback (most recent call last)",
      "\u001b[0;32m<ipython-input-1-ea549bb38cd9>\u001b[0m in \u001b[0;36m<module>\u001b[0;34m\u001b[0m\n\u001b[1;32m      7\u001b[0m \u001b[0;32mimport\u001b[0m \u001b[0mos\u001b[0m\u001b[0;34m\u001b[0m\u001b[0;34m\u001b[0m\u001b[0m\n\u001b[1;32m      8\u001b[0m \u001b[0;32mimport\u001b[0m \u001b[0myaml\u001b[0m\u001b[0;34m\u001b[0m\u001b[0;34m\u001b[0m\u001b[0m\n\u001b[0;32m----> 9\u001b[0;31m \u001b[0;32mimport\u001b[0m \u001b[0mpandas\u001b[0m \u001b[0;32mas\u001b[0m \u001b[0mpd\u001b[0m\u001b[0;34m\u001b[0m\u001b[0;34m\u001b[0m\u001b[0m\n\u001b[0m\u001b[1;32m     10\u001b[0m \u001b[0;32mimport\u001b[0m \u001b[0mnumpy\u001b[0m \u001b[0;32mas\u001b[0m \u001b[0mnp\u001b[0m\u001b[0;34m\u001b[0m\u001b[0;34m\u001b[0m\u001b[0m\n\u001b[1;32m     11\u001b[0m \u001b[0;32mimport\u001b[0m \u001b[0mlightgbm\u001b[0m \u001b[0;32mas\u001b[0m \u001b[0mlgb\u001b[0m\u001b[0;34m\u001b[0m\u001b[0;34m\u001b[0m\u001b[0m\n",
      "\u001b[0;32m/opt/anaconda3/lib/python3.7/site-packages/pandas/__init__.py\u001b[0m in \u001b[0;36m<module>\u001b[0;34m\u001b[0m\n\u001b[1;32m     53\u001b[0m \u001b[0;32mimport\u001b[0m \u001b[0mpandas\u001b[0m\u001b[0;34m.\u001b[0m\u001b[0mcore\u001b[0m\u001b[0;34m.\u001b[0m\u001b[0mconfig_init\u001b[0m\u001b[0;34m\u001b[0m\u001b[0;34m\u001b[0m\u001b[0m\n\u001b[1;32m     54\u001b[0m \u001b[0;34m\u001b[0m\u001b[0m\n\u001b[0;32m---> 55\u001b[0;31m from pandas.core.api import (\n\u001b[0m\u001b[1;32m     56\u001b[0m     \u001b[0;31m# dtype\u001b[0m\u001b[0;34m\u001b[0m\u001b[0;34m\u001b[0m\u001b[0;34m\u001b[0m\u001b[0m\n\u001b[1;32m     57\u001b[0m     \u001b[0mInt8Dtype\u001b[0m\u001b[0;34m,\u001b[0m\u001b[0;34m\u001b[0m\u001b[0;34m\u001b[0m\u001b[0m\n",
      "\u001b[0;32m/opt/anaconda3/lib/python3.7/site-packages/pandas/core/api.py\u001b[0m in \u001b[0;36m<module>\u001b[0;34m\u001b[0m\n\u001b[1;32m      3\u001b[0m \u001b[0;32mimport\u001b[0m \u001b[0mnumpy\u001b[0m \u001b[0;32mas\u001b[0m \u001b[0mnp\u001b[0m\u001b[0;34m\u001b[0m\u001b[0;34m\u001b[0m\u001b[0m\n\u001b[1;32m      4\u001b[0m \u001b[0;34m\u001b[0m\u001b[0m\n\u001b[0;32m----> 5\u001b[0;31m from pandas.core.arrays.integer import (\n\u001b[0m\u001b[1;32m      6\u001b[0m     \u001b[0mInt8Dtype\u001b[0m\u001b[0;34m,\u001b[0m\u001b[0;34m\u001b[0m\u001b[0;34m\u001b[0m\u001b[0m\n\u001b[1;32m      7\u001b[0m     \u001b[0mInt16Dtype\u001b[0m\u001b[0;34m,\u001b[0m\u001b[0;34m\u001b[0m\u001b[0;34m\u001b[0m\u001b[0m\n",
      "\u001b[0;32m/opt/anaconda3/lib/python3.7/site-packages/pandas/core/arrays/__init__.py\u001b[0m in \u001b[0;36m<module>\u001b[0;34m\u001b[0m\n\u001b[1;32m      8\u001b[0m \u001b[0;32mfrom\u001b[0m \u001b[0;34m.\u001b[0m\u001b[0mdatetimes\u001b[0m \u001b[0;32mimport\u001b[0m \u001b[0mDatetimeArray\u001b[0m  \u001b[0;31m# noqa: F401\u001b[0m\u001b[0;34m\u001b[0m\u001b[0;34m\u001b[0m\u001b[0m\n\u001b[1;32m      9\u001b[0m \u001b[0;32mfrom\u001b[0m \u001b[0;34m.\u001b[0m\u001b[0minteger\u001b[0m \u001b[0;32mimport\u001b[0m \u001b[0mIntegerArray\u001b[0m\u001b[0;34m,\u001b[0m \u001b[0minteger_array\u001b[0m  \u001b[0;31m# noqa: F401\u001b[0m\u001b[0;34m\u001b[0m\u001b[0;34m\u001b[0m\u001b[0m\n\u001b[0;32m---> 10\u001b[0;31m \u001b[0;32mfrom\u001b[0m \u001b[0;34m.\u001b[0m\u001b[0minterval\u001b[0m \u001b[0;32mimport\u001b[0m \u001b[0mIntervalArray\u001b[0m  \u001b[0;31m# noqa: F401\u001b[0m\u001b[0;34m\u001b[0m\u001b[0;34m\u001b[0m\u001b[0m\n\u001b[0m\u001b[1;32m     11\u001b[0m \u001b[0;32mfrom\u001b[0m \u001b[0;34m.\u001b[0m\u001b[0mnumpy_\u001b[0m \u001b[0;32mimport\u001b[0m \u001b[0mPandasArray\u001b[0m\u001b[0;34m,\u001b[0m \u001b[0mPandasDtype\u001b[0m  \u001b[0;31m# noqa: F401\u001b[0m\u001b[0;34m\u001b[0m\u001b[0;34m\u001b[0m\u001b[0m\n\u001b[1;32m     12\u001b[0m \u001b[0;32mfrom\u001b[0m \u001b[0;34m.\u001b[0m\u001b[0mperiod\u001b[0m \u001b[0;32mimport\u001b[0m \u001b[0mPeriodArray\u001b[0m\u001b[0;34m,\u001b[0m \u001b[0mperiod_array\u001b[0m  \u001b[0;31m# noqa: F401\u001b[0m\u001b[0;34m\u001b[0m\u001b[0;34m\u001b[0m\u001b[0m\n",
      "\u001b[0;32m/opt/anaconda3/lib/python3.7/site-packages/pandas/core/arrays/interval.py\u001b[0m in \u001b[0;36m<module>\u001b[0;34m\u001b[0m\n\u001b[1;32m     36\u001b[0m \u001b[0;32mfrom\u001b[0m \u001b[0mpandas\u001b[0m\u001b[0;34m.\u001b[0m\u001b[0mcore\u001b[0m\u001b[0;34m.\u001b[0m\u001b[0marrays\u001b[0m\u001b[0;34m.\u001b[0m\u001b[0mcategorical\u001b[0m \u001b[0;32mimport\u001b[0m \u001b[0mCategorical\u001b[0m\u001b[0;34m\u001b[0m\u001b[0;34m\u001b[0m\u001b[0m\n\u001b[1;32m     37\u001b[0m \u001b[0;32mimport\u001b[0m \u001b[0mpandas\u001b[0m\u001b[0;34m.\u001b[0m\u001b[0mcore\u001b[0m\u001b[0;34m.\u001b[0m\u001b[0mcommon\u001b[0m \u001b[0;32mas\u001b[0m \u001b[0mcom\u001b[0m\u001b[0;34m\u001b[0m\u001b[0;34m\u001b[0m\u001b[0m\n\u001b[0;32m---> 38\u001b[0;31m \u001b[0;32mfrom\u001b[0m \u001b[0mpandas\u001b[0m\u001b[0;34m.\u001b[0m\u001b[0mcore\u001b[0m\u001b[0;34m.\u001b[0m\u001b[0mindexes\u001b[0m\u001b[0;34m.\u001b[0m\u001b[0mbase\u001b[0m \u001b[0;32mimport\u001b[0m \u001b[0mIndex\u001b[0m\u001b[0;34m,\u001b[0m \u001b[0mensure_index\u001b[0m\u001b[0;34m\u001b[0m\u001b[0;34m\u001b[0m\u001b[0m\n\u001b[0m\u001b[1;32m     39\u001b[0m \u001b[0;34m\u001b[0m\u001b[0m\n\u001b[1;32m     40\u001b[0m \u001b[0m_VALID_CLOSED\u001b[0m \u001b[0;34m=\u001b[0m \u001b[0;34m{\u001b[0m\u001b[0;34m\"left\"\u001b[0m\u001b[0;34m,\u001b[0m \u001b[0;34m\"right\"\u001b[0m\u001b[0;34m,\u001b[0m \u001b[0;34m\"both\"\u001b[0m\u001b[0;34m,\u001b[0m \u001b[0;34m\"neither\"\u001b[0m\u001b[0;34m}\u001b[0m\u001b[0;34m\u001b[0m\u001b[0;34m\u001b[0m\u001b[0m\n",
      "\u001b[0;32m/opt/anaconda3/lib/python3.7/site-packages/pandas/core/indexes/base.py\u001b[0m in \u001b[0;36m<module>\u001b[0;34m\u001b[0m\n\u001b[1;32m     72\u001b[0m \u001b[0;32mfrom\u001b[0m \u001b[0mpandas\u001b[0m\u001b[0;34m.\u001b[0m\u001b[0mcore\u001b[0m\u001b[0;34m.\u001b[0m\u001b[0mops\u001b[0m \u001b[0;32mimport\u001b[0m \u001b[0mget_op_result_name\u001b[0m\u001b[0;34m,\u001b[0m \u001b[0mmake_invalid_op\u001b[0m\u001b[0;34m\u001b[0m\u001b[0;34m\u001b[0m\u001b[0m\n\u001b[1;32m     73\u001b[0m \u001b[0;32mimport\u001b[0m \u001b[0mpandas\u001b[0m\u001b[0;34m.\u001b[0m\u001b[0mcore\u001b[0m\u001b[0;34m.\u001b[0m\u001b[0msorting\u001b[0m \u001b[0;32mas\u001b[0m \u001b[0msorting\u001b[0m\u001b[0;34m\u001b[0m\u001b[0;34m\u001b[0m\u001b[0m\n\u001b[0;32m---> 74\u001b[0;31m \u001b[0;32mfrom\u001b[0m \u001b[0mpandas\u001b[0m\u001b[0;34m.\u001b[0m\u001b[0mcore\u001b[0m\u001b[0;34m.\u001b[0m\u001b[0mstrings\u001b[0m \u001b[0;32mimport\u001b[0m \u001b[0mStringMethods\u001b[0m\u001b[0;34m\u001b[0m\u001b[0;34m\u001b[0m\u001b[0m\n\u001b[0m\u001b[1;32m     75\u001b[0m \u001b[0;34m\u001b[0m\u001b[0m\n\u001b[1;32m     76\u001b[0m from pandas.io.formats.printing import (\n",
      "\u001b[0;32m/opt/anaconda3/lib/python3.7/site-packages/pandas/core/strings/__init__.py\u001b[0m in \u001b[0;36m<module>\u001b[0;34m\u001b[0m\n\u001b[1;32m     28\u001b[0m \u001b[0;31m#     - ArrowStringArray\u001b[0m\u001b[0;34m\u001b[0m\u001b[0;34m\u001b[0m\u001b[0;34m\u001b[0m\u001b[0m\n\u001b[1;32m     29\u001b[0m \u001b[0;34m\u001b[0m\u001b[0m\n\u001b[0;32m---> 30\u001b[0;31m \u001b[0;32mfrom\u001b[0m \u001b[0mpandas\u001b[0m\u001b[0;34m.\u001b[0m\u001b[0mcore\u001b[0m\u001b[0;34m.\u001b[0m\u001b[0mstrings\u001b[0m\u001b[0;34m.\u001b[0m\u001b[0maccessor\u001b[0m \u001b[0;32mimport\u001b[0m \u001b[0mStringMethods\u001b[0m\u001b[0;34m\u001b[0m\u001b[0;34m\u001b[0m\u001b[0m\n\u001b[0m\u001b[1;32m     31\u001b[0m \u001b[0;32mfrom\u001b[0m \u001b[0mpandas\u001b[0m\u001b[0;34m.\u001b[0m\u001b[0mcore\u001b[0m\u001b[0;34m.\u001b[0m\u001b[0mstrings\u001b[0m\u001b[0;34m.\u001b[0m\u001b[0mbase\u001b[0m \u001b[0;32mimport\u001b[0m \u001b[0mBaseStringArrayMethods\u001b[0m\u001b[0;34m\u001b[0m\u001b[0;34m\u001b[0m\u001b[0m\n\u001b[1;32m     32\u001b[0m \u001b[0;34m\u001b[0m\u001b[0m\n",
      "\u001b[0;32m/opt/anaconda3/lib/python3.7/site-packages/pandas/core/strings/accessor.py\u001b[0m in \u001b[0;36m<module>\u001b[0;34m\u001b[0m\n\u001b[1;32m     14\u001b[0m \u001b[0;34m\u001b[0m\u001b[0m\n\u001b[1;32m     15\u001b[0m \u001b[0;32mimport\u001b[0m \u001b[0mpandas\u001b[0m\u001b[0;34m.\u001b[0m\u001b[0m_libs\u001b[0m\u001b[0;34m.\u001b[0m\u001b[0mlib\u001b[0m \u001b[0;32mas\u001b[0m \u001b[0mlib\u001b[0m\u001b[0;34m\u001b[0m\u001b[0;34m\u001b[0m\u001b[0m\n\u001b[0;32m---> 16\u001b[0;31m from pandas._typing import (\n\u001b[0m\u001b[1;32m     17\u001b[0m     \u001b[0mDtypeObj\u001b[0m\u001b[0;34m,\u001b[0m\u001b[0;34m\u001b[0m\u001b[0;34m\u001b[0m\u001b[0m\n\u001b[1;32m     18\u001b[0m     \u001b[0mFrameOrSeriesUnion\u001b[0m\u001b[0;34m,\u001b[0m\u001b[0;34m\u001b[0m\u001b[0;34m\u001b[0m\u001b[0m\n",
      "\u001b[0;31mImportError\u001b[0m: cannot import name 'DtypeObj' from 'pandas._typing' (/opt/anaconda3/lib/python3.7/site-packages/pandas/_typing.py)"
     ]
    }
   ],
   "source": [
    "import time\n",
    "import traceback\n",
    "import datetime\n",
    "import copy\n",
    "import sys\n",
    "import pickle\n",
    "import os\n",
    "import yaml\n",
    "import pandas as pd\n",
    "import numpy as np\n",
    "import lightgbm as lgb\n",
    "from pprint import pprint\n",
    "\n",
    "import ccxt"
   ]
  },
  {
   "cell_type": "code",
   "execution_count": 6,
   "metadata": {},
   "outputs": [],
   "source": [
    "# 必要な情報を読み込み\n",
    "def fetch_yaml_config() -> dict:\n",
    "    \"\"\"read yaml config file\"\"\"\n",
    "    config = \"config.yml\"\n",
    "    with open(config, \"r\", encoding=\"utf-8\") as yml:\n",
    "        config = yaml.safe_load(yml)\n",
    "    return config"
   ]
  },
  {
   "cell_type": "code",
   "execution_count": null,
   "metadata": {},
   "outputs": [],
   "source": [
    "def get_position(exchange: str, ex: ccxt) -> dict:\n",
    "        \"\"\"\n",
    "        Return\n",
    "        ---------------------------\n",
    "        dict or None : \n",
    "            dict[float, float]\n",
    "                qty: float \n",
    "                    position size \n",
    "                avgEntry: float\n",
    "                    average entry price\n",
    "        \"\"\"\n",
    "        if exchange == \"bitflyer\":\n",
    "            position_response = ex.private_get_getpositions(params={\"product_code\" : \"FX_BTC_JPY\"})\n",
    "            # [\n",
    "            #     {\n",
    "            #         \"product_code\" : \"FX_BTC_JPY\", \n",
    "            #         ''side\" : \"BUY\", \n",
    "            #         ''price\" : 36000, \n",
    "            #         ''size\" : 10, \n",
    "            #         ''commission\" : 0, \n",
    "            #          \"swap_point_accumulate\" : -35, \n",
    "            #          \"require_collateral\" : 120000, \n",
    "            #          \"open_date\" : \"2015-11-03T10:04:45.011\", \n",
    "            #          \"leverage\" : 3, \n",
    "            #          \"pnl\" : 965, \n",
    "            #          \"sfd\" : -0.5\n",
    "            #     }\n",
    "            # ]\n",
    "\n",
    "            if not position_response:\n",
    "                # 現在ポジションを持っていない状態\n",
    "                net_size = 0.0\n",
    "                avg_entry = 0.0\n",
    "            else:\n",
    "                # 現在ポジションを持っている状態\n",
    "                size = []\n",
    "                price = []\n",
    "                for pos in position_response:\n",
    "                    size.append(pos['size'])\n",
    "                    price.append(pos['price'])\n",
    "                    side = pos['side']\n",
    "                \n",
    "                # 平均建値を計算する\n",
    "                avg_entry = round(\n",
    "                    sum(\n",
    "                        price[i] * size[i] for i in range(len(price))\n",
    "                    ) / sum(size)\n",
    "                )\n",
    "                # 建玉の計算\n",
    "                net_size = round(sum(size),2)\n",
    "                if side == 'SELL':\n",
    "                    net_size = net_size * -1.0\n",
    "            \n",
    "            return {'qty' : net_size, 'avgEntry' : avg_entry}"
   ]
  },
  {
   "cell_type": "code",
   "execution_count": null,
   "metadata": {},
   "outputs": [],
   "source": [
    "def exec_order(order_direction: str, ex: ccxt, exchange: str, order_lot: float, max_position_size: float, symbol: str):\n",
    "    try:\n",
    "        position = get_position(exchange, ex)\n",
    "        position_size = position['qty']\n",
    "\n",
    "        # 1. Longの注文 2. ショートポジションを持っていない 3. 現在のポジションに買い注文を足したものがMAXポジションサイズを超えないこと\n",
    "        if order_direction == 'buy' and position_size >= 0.0 and position_size + order_lot <= max_position_size:\n",
    "            order = ex.create_order(\n",
    "                symbol=symbol,\n",
    "                type='market',\n",
    "                side=order_direction,\n",
    "                amount=order_lot,\n",
    "                params = { \"product_code\" : \"FX_BTC_JPY\" }\n",
    "            )\n",
    "        # 1. Shortの注文 2. ロングポジションを持っていない 3. 現在のポジションに売り注文を足したものがMAXポジションサイズを超えないこと\n",
    "        if order_direction == 'sell' and position_size <= 0.0 and position_size - order_lot <= max_position_size * -1.0:\n",
    "            order = ex.create_order(\n",
    "                symbol=symbol,\n",
    "                type='market',\n",
    "                side=order_direction,\n",
    "                amount=order_lot,\n",
    "                params = { \"product_code\" : \"FX_BTC_JPY\" }\n",
    "            )\n",
    "    except KeyboardInterrupt:\n",
    "        sys.exit()\n",
    "    except Exception as e:\n",
    "        traceback.print_exc() "
   ]
  },
  {
   "cell_type": "code",
   "execution_count": null,
   "metadata": {},
   "outputs": [],
   "source": [
    "def check_sfd(ex: ccxt, symbol: str) -> float:\n",
    "    fx_close = ex.fetch_ticker(symbol=symbol, params = { \"product_code\" : \"FX_BTC_JPY\" })['close']\n",
    "    close = ex.fetch_ticker(symbol=symbol, params = { \"product_code\" : \"BTC_JPY\" })['close']\n",
    "    sfd = (fx_close - close) / fx_close\n",
    "    return sfd"
   ]
  },
  {
   "cell_type": "code",
   "execution_count": 20,
   "metadata": {},
   "outputs": [],
   "source": [
    "if __name__ == \"__main__\":\n",
    "    config = fetch_yaml_config()\n",
    "    # 環境変数を設定する\n",
    "    api_key = config[\"API_KEY\"]\n",
    "    api_secret = config[\"API_SECRET\"]\n",
    "    order_lot = float(config[\"LOT\"]) # 0.001\n",
    "    symbol = config[\"SYMBOL\"] # BTC/JPY\n",
    "    exchange = config[\"EXCHANGE\"] # bitflyer\n",
    "    long_th = config[\"LONG_THRESHOLD\"] # -0.048\n",
    "    short_th = config[\"SHORT_THRESHOLD\"] # 0.048\n",
    "    max_position_size = config[\"MAX_POSITION_SIZE\"] # 0.005\n",
    "\n",
    "    # bitFlyerのccxtクラスオブジェクトを生成\n",
    "    ccxt_config = {\"apiKey\": api_key, \"secret\": api_secret}\n",
    "    ex = ccxt.bitflyer(ccxt_config)\n",
    "\n",
    "    periods_dict = {\"1m\" :60, \"3m\":60*3, \"5m\":60*5, \"15m\":60*15, \"30m\":60*30, \"1h\":60*60, \"2h\":60*60*2, \"4h\":60*60*4, \"1d\":60*60*24}\n",
    "\n",
    "    period = \"1m\"\n",
    "    timespan = periods_dict[period]\n",
    "    t = time.time()\n",
    "    pre_time = t//timespan\n",
    "    \n",
    "    while True:\n",
    "        t = time.time()\n",
    "        now_time = t//timespan\n",
    "        if pre_time != now_time:\n",
    "            pre_time = now_time\n",
    "            sfd = check_sfd(ex, symbol)\n",
    "            # PositionCondition\n",
    "            if long_th > sfd:\n",
    "                # 買い注文\n",
    "                exec_order('buy', ex, exchange, order_lot, max_position_size, symbol)\n",
    "            elif short_th < sfd:\n",
    "                # 売り注文\n",
    "                exec_order('sell', ex, exchange, order_lot, max_position_size, symbol)\n",
    "            \n",
    "        time.sleep(1)"
   ]
  },
  {
   "cell_type": "code",
   "execution_count": 15,
   "metadata": {},
   "outputs": [
    {
     "name": "stdout",
     "output_type": "stream",
     "text": [
      "['aax', 'ascendex', 'bequant', 'bibox', 'bigone', 'binance', 'binancecoinm', 'binanceus', 'binanceusdm', 'bit2c', 'bitbank', 'bitbay', 'bitbns', 'bitcoincom', 'bitfinex', 'bitfinex2', 'bitflyer', 'bitforex', 'bitget', 'bithumb', 'bitmart', 'bitmex', 'bitopro', 'bitpanda', 'bitrue', 'bitso', 'bitstamp', 'bitstamp1', 'bittrex', 'bitvavo', 'bkex', 'bl3p', 'blockchaincom', 'btcalpha', 'btcbox', 'btcmarkets', 'btctradeua', 'btcturk', 'buda', 'bw', 'bybit', 'bytetrade', 'cdax', 'cex', 'coinbase', 'coinbaseprime', 'coinbasepro', 'coincheck', 'coinex', 'coinfalcon', 'coinmate', 'coinone', 'coinspot', 'crex24', 'cryptocom', 'currencycom', 'delta', 'deribit', 'digifinex', 'eqonex', 'exmo', 'flowbtc', 'fmfwio', 'ftx', 'ftxus', 'gateio', 'gemini', 'hitbtc', 'hitbtc3', 'hollaex', 'huobi', 'huobijp', 'huobipro', 'idex', 'independentreserve', 'indodax', 'itbit', 'kraken', 'kucoin', 'kucoinfutures', 'kuna', 'latoken', 'lbank', 'liquid', 'luno', 'lykke', 'mercado', 'mexc', 'ndax', 'novadax', 'oceanex', 'okcoin', 'okex', 'okex5', 'okx', 'paymium', 'phemex', 'poloniex', 'probit', 'qtrade', 'ripio', 'stex', 'therock', 'tidebit', 'tidex', 'timex', 'upbit', 'vcc', 'wavesexchange', 'wazirx', 'whitebit', 'woo', 'xena', 'yobit', 'zaif', 'zb', 'zipmex', 'zonda']\n"
     ]
    }
   ],
   "source": [
    "print(ccxt.exchanges)"
   ]
  },
  {
   "cell_type": "code",
   "execution_count": null,
   "metadata": {},
   "outputs": [],
   "source": []
  }
 ],
 "metadata": {
  "kernelspec": {
   "display_name": "Python 3",
   "language": "python",
   "name": "python3"
  },
  "language_info": {
   "codemirror_mode": {
    "name": "ipython",
    "version": 3
   },
   "file_extension": ".py",
   "mimetype": "text/x-python",
   "name": "python",
   "nbconvert_exporter": "python",
   "pygments_lexer": "ipython3",
   "version": "3.7.6"
  }
 },
 "nbformat": 4,
 "nbformat_minor": 5
}
