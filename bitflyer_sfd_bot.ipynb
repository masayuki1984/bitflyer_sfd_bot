{
 "cells": [
  {
   "cell_type": "code",
   "execution_count": 4,
   "id": "7957b1ad",
   "metadata": {},
   "outputs": [],
   "source": [
    "import time\n",
    "import traceback\n",
    "import datetime\n",
    "import copy\n",
    "import sys\n",
    "import pickle\n",
    "import os\n",
    "import yaml\n",
    "import pandas as pd\n",
    "import numpy as np\n",
    "import lightgbm as lgb\n",
    "from pprint import pprint\n",
    "\n",
    "import ccxt"
   ]
  },
  {
   "cell_type": "code",
   "execution_count": 89,
   "id": "891a5dfe",
   "metadata": {},
   "outputs": [],
   "source": [
    "# 必要な情報を読み込み\n",
    "def fetch_yaml_config() -> dict:\n",
    "    \"\"\"read yaml config file\"\"\"\n",
    "    config = \"config.yml\"\n",
    "    with open(config, \"r\", encoding=\"utf-8\") as yml:\n",
    "        config = yaml.safe_load(yml)\n",
    "    return config"
   ]
  },
  {
   "cell_type": "code",
   "execution_count": 99,
   "id": "4bc223f4",
   "metadata": {},
   "outputs": [],
   "source": [
    "def get_position(exchange: str, ex: ccxt) -> dict:\n",
    "        \"\"\"\n",
    "        Return\n",
    "        ---------------------------\n",
    "        dict or None : \n",
    "            dict[float, float]\n",
    "                qty: float \n",
    "                    position size \n",
    "                avgEntry: float\n",
    "                    average entry price\n",
    "        \"\"\"\n",
    "        if exchange == \"bitflyer\":\n",
    "            position_response = ex.private_get_getpositions(params={\"product_code\" : \"FX_BTC_JPY\"})\n",
    "            # [\n",
    "            #     {\n",
    "            #         \"product_code\" : \"FX_BTC_JPY\", \n",
    "            #         ''side\" : \"BUY\", \n",
    "            #         ''price\" : 36000, \n",
    "            #         ''size\" : 10, \n",
    "            #         ''commission\" : 0, \n",
    "            #          \"swap_point_accumulate\" : -35, \n",
    "            #          \"require_collateral\" : 120000, \n",
    "            #          \"open_date\" : \"2015-11-03T10:04:45.011\", \n",
    "            #          \"leverage\" : 3, \n",
    "            #          \"pnl\" : 965, \n",
    "            #          \"sfd\" : -0.5\n",
    "            #     }\n",
    "            # ]\n",
    "\n",
    "            if not position_response:\n",
    "                # 現在ポジションを持っていない状態\n",
    "                net_size = 0.0\n",
    "                avg_entry = 0.0\n",
    "            else:\n",
    "                # 現在ポジションを持っている状態\n",
    "                size = []\n",
    "                price = []\n",
    "                for pos in position_response:\n",
    "                    size.append(pos['size'])\n",
    "                    price.append(pos['price'])\n",
    "                    side = pos['side']\n",
    "                \n",
    "                # 平均建値を計算する\n",
    "                avg_entry = round(\n",
    "                    sum(\n",
    "                        price[i] * size[i] for i in range(len(price))\n",
    "                    ) / sum(size)\n",
    "                )\n",
    "                # 建玉の計算\n",
    "                net_size = round(sum(size),2)\n",
    "                if side == 'SELL':\n",
    "                    net_size = net_size * -1.0\n",
    "            \n",
    "            return {'qty' : net_size, 'avgEntry' : avg_entry}"
   ]
  },
  {
   "cell_type": "code",
   "execution_count": 98,
   "id": "b238d94e",
   "metadata": {},
   "outputs": [],
   "source": [
    "def exec_order(order_direction: str, ex: ccxt, exchange: str, order_lot: float, max_position_size: float, symbol: str):\n",
    "    try:\n",
    "        position = get_position(exchange, ex)\n",
    "        position_size = position['qty']\n",
    "\n",
    "        # 1. Longの注文 2. ショートポジションを持っていない 3. 現在のポジションに買い注文を足したものがMAXポジションサイズを超えないこと\n",
    "        if order_direction == 'buy' and position_size >= 0.0 and position_size + order_lot <= max_position_size:\n",
    "            order = ex.create_order(\n",
    "                symbol=symbol,\n",
    "                type='market',\n",
    "                side=order_direction,\n",
    "                amount=order_lot,\n",
    "                params = { \"product_code\" : \"FX_BTC_JPY\" }\n",
    "            )\n",
    "        # 1. Shortの注文 2. ロングポジションを持っていない 3. 現在のポジションに売り注文を足したものがMAXポジションサイズを超えないこと\n",
    "        if order_direction == 'sell' and position_size <= 0.0 and position_size - order_lot <= max_position_size * -1.0:\n",
    "            order = ex.create_order(\n",
    "                symbol=symbol,\n",
    "                type='market',\n",
    "                side=order_direction,\n",
    "                amount=order_lot,\n",
    "                params = { \"product_code\" : \"FX_BTC_JPY\" }\n",
    "            )\n",
    "    except KeyboardInterrupt:\n",
    "        sys.exit()\n",
    "    except Exception as e:\n",
    "        traceback.print_exc() "
   ]
  },
  {
   "cell_type": "code",
   "execution_count": 73,
   "id": "fedfa986",
   "metadata": {},
   "outputs": [],
   "source": [
    "def check_sfd(ex: ccxt, symbol: str) -> float:\n",
    "    fx_close = ex.fetch_ticker(symbol=symbol, params = { \"product_code\" : \"FX_BTC_JPY\" })['close']\n",
    "    close = ex.fetch_ticker(symbol=symbol, params = { \"product_code\" : \"BTC_JPY\" })['close']\n",
    "    sfd = (fx_close - close) / fx_close\n",
    "    return sfd"
   ]
  },
  {
   "cell_type": "code",
   "execution_count": 88,
   "id": "3fd7b533",
   "metadata": {},
   "outputs": [
    {
     "name": "stdout",
     "output_type": "stream",
     "text": [
      "<class 'dict'>\n"
     ]
    },
    {
     "ename": "KeyboardInterrupt",
     "evalue": "",
     "output_type": "error",
     "traceback": [
      "\u001b[0;31m---------------------------------------------------------------------------\u001b[0m",
      "\u001b[0;31mKeyboardInterrupt\u001b[0m                         Traceback (most recent call last)",
      "\u001b[0;32m<ipython-input-88-d07e764e36bc>\u001b[0m in \u001b[0;36m<module>\u001b[0;34m\u001b[0m\n\u001b[1;32m     37\u001b[0m                 \u001b[0;32mpass\u001b[0m\u001b[0;34m\u001b[0m\u001b[0;34m\u001b[0m\u001b[0m\n\u001b[1;32m     38\u001b[0m \u001b[0;34m\u001b[0m\u001b[0m\n\u001b[0;32m---> 39\u001b[0;31m         \u001b[0mtime\u001b[0m\u001b[0;34m.\u001b[0m\u001b[0msleep\u001b[0m\u001b[0;34m(\u001b[0m\u001b[0;36m1\u001b[0m\u001b[0;34m)\u001b[0m\u001b[0;34m\u001b[0m\u001b[0;34m\u001b[0m\u001b[0m\n\u001b[0m",
      "\u001b[0;31mKeyboardInterrupt\u001b[0m: "
     ]
    }
   ],
   "source": [
    "if __name__ == \"__main__\":\n",
    "    config = fetch_yaml_config()\n",
    "    # 環境変数を設定する\n",
    "    api_key = config[\"API_KEY\"]\n",
    "    api_secret = config[\"API_SECRET\"]\n",
    "    order_lot = float(config[\"LOT\"]) # 0.001\n",
    "    symbol = config[\"SYMBOL\"] # BTC/JPY\n",
    "    exchange = config[\"EXCHANGE\"] # bitflyer\n",
    "    long_th = config[\"LONG_THRESHOLD\"] # -0.048\n",
    "    short_th = config[\"SHORT_THRESHOLD\"] # 0.048\n",
    "    max_position_size = config[\"MAX_POSITION_SIZE\"] # 0.005\n",
    "\n",
    "    # bitFlyerのccxtクラスオブジェクトを生成\n",
    "    ccxt_config = {\"apiKey\": api_key, \"secret\": api_secret}\n",
    "    ex = ccxt.bitflyer(ccxt_config)\n",
    "\n",
    "    periods_dict = {\"1m\" :60, \"3m\":60*3, \"5m\":60*5, \"15m\":60*15, \"30m\":60*30, \"1h\":60*60, \"2h\":60*60*2, \"4h\":60*60*4, \"1d\":60*60*24}\n",
    "\n",
    "    period = \"1m\"\n",
    "    timespan = periods_dict[period]\n",
    "    t = time.time()\n",
    "    pre_time = t//timespan\n",
    "    \n",
    "    while True:\n",
    "        t = time.time()\n",
    "        now_time = t//timespan\n",
    "        if pre_time != now_time:\n",
    "            pre_time = now_time\n",
    "            sfd = check_sfd(ex, symbol)\n",
    "            # PositionCondition\n",
    "            if long_th > sfd:\n",
    "                # 買い注文\n",
    "                exec_order('buy', ex, exchange, order_lot, max_position_size, symbol)\n",
    "            elif short_th < sfd:\n",
    "                # 売り注文\n",
    "                exec_order('sell', ex, exchange, order_lot, max_position_size, symbol)\n",
    "            \n",
    "        time.sleep(1)"
   ]
  },
  {
   "cell_type": "code",
   "execution_count": 90,
   "id": "07ca0304",
   "metadata": {},
   "outputs": [
    {
     "name": "stdout",
     "output_type": "stream",
     "text": [
      "[]\n"
     ]
    }
   ],
   "source": [
    "res = ex.private_get_getpositions( params = { \"product_code\" : \"FX_BTC_JPY\" })\n",
    "print(res)"
   ]
  },
  {
   "cell_type": "code",
   "execution_count": 86,
   "id": "06cd0a30",
   "metadata": {},
   "outputs": [
    {
     "name": "stdout",
     "output_type": "stream",
     "text": [
      "{'collateral': '0.0',\n",
      " 'keep_rate': '0.0',\n",
      " 'margin_call_amount': '0.0',\n",
      " 'margin_call_due_date': None,\n",
      " 'open_position_pnl': '0.0',\n",
      " 'require_collateral': '0.0'}\n"
     ]
    }
   ],
   "source": [
    "collateral = ex.private_get_getcollateral()\n",
    "pprint( collateral )"
   ]
  },
  {
   "cell_type": "code",
   "execution_count": 8,
   "id": "90b4cc47",
   "metadata": {},
   "outputs": [
    {
     "data": {
      "text/plain": [
       "datetime.datetime(2022, 7, 3, 10, 33, 6, 611652)"
      ]
     },
     "execution_count": 8,
     "metadata": {},
     "output_type": "execute_result"
    }
   ],
   "source": [
    "today_now = datetime.datetime.now()\n",
    "today_now"
   ]
  },
  {
   "cell_type": "code",
   "execution_count": null,
   "id": "51f0cf92",
   "metadata": {},
   "outputs": [],
   "source": []
  },
  {
   "cell_type": "code",
   "execution_count": null,
   "id": "9eec53e5",
   "metadata": {},
   "outputs": [],
   "source": []
  }
 ],
 "metadata": {
  "kernelspec": {
   "display_name": "Python 3 (ipykernel)",
   "language": "python",
   "name": "python3"
  },
  "language_info": {
   "codemirror_mode": {
    "name": "ipython",
    "version": 3
   },
   "file_extension": ".py",
   "mimetype": "text/x-python",
   "name": "python",
   "nbconvert_exporter": "python",
   "pygments_lexer": "ipython3",
   "version": "3.9.12"
  }
 },
 "nbformat": 4,
 "nbformat_minor": 5
}
